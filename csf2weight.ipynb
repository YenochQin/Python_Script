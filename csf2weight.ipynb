{
 "cells": [
  {
   "cell_type": "code",
   "execution_count": 1,
   "metadata": {},
   "outputs": [],
   "source": [
    "import numpy as np"
   ]
  },
  {
   "cell_type": "code",
   "execution_count": 2,
   "metadata": {},
   "outputs": [],
   "source": [
    "csf = open('Na2P.c','r')\n",
    "weightfile = open('2Po.l','r')"
   ]
  },
  {
   "cell_type": "markdown",
   "metadata": {
    "tags": []
   },
   "source": [
    "a = csf.readline()\n",
    "print(a[-8:-1])\n",
    "print(type(a))\n",
    "if \")\" in a:\n",
    "    print(\"True\")\n",
    "else:\n",
    "        print(\"Fales\")"
   ]
  },
  {
   "cell_type": "markdown",
   "metadata": {
    "tags": []
   },
   "source": [
    "while a:\n",
    "    if \")\" in a:\n",
    "        print(a)\n",
    "    else:\n",
    "        \n",
    "        print(a)\n",
    "    # a=csf.readline()"
   ]
  },
  {
   "cell_type": "code",
   "execution_count": 3,
   "metadata": {
    "tags": []
   },
   "outputs": [
    {
     "name": "stdout",
     "output_type": "stream",
     "text": [
      "['  Na      Z =  11.0  NEL =   0   NCFG =     29\\n', '\\n', '\\n', '  2*J =    0  NUMBER =   1\\n', '     Ssms =    -21.007389308\\n', '     1  -161.876335055  1s(2).2s(2).2p(6).3p_2P\\n', ' 0.93147551-0.01316687 0.01390605 0.03199164 0.04371852 0.05447320 0.09638329\\n', ' 0.12391547 0.09554742 0.16695843 0.21478356-0.00057695-0.00208184-0.11176146\\n', ' 0.00010236 0.00002463 0.00095310-0.03749696-0.06510470-0.00056798-0.00069512\\n', '-0.01259294-0.00001374-0.00000071-0.00000124-0.00088415-0.00152322-0.00000022\\n', '-0.00000282\\n']\n"
     ]
    }
   ],
   "source": [
    "weights = weightfile.readlines()\n",
    "print(weights)\n",
    "\n",
    "# # b = weight.readline()\n",
    "# # print(b[0:11])\n",
    "# # print(len(b))\n",
    "# # print(b)"
   ]
  },
  {
   "cell_type": "code",
   "execution_count": 4,
   "metadata": {},
   "outputs": [],
   "source": [
    "title = weights[0]\n",
    "ncfg = np.int(title[-8:-1])\n",
    "ncfg\n",
    "eterm = weights[5]\n",
    "finalterm = eterm[-3:-1]\n"
   ]
  },
  {
   "cell_type": "code",
   "execution_count": 5,
   "metadata": {
    "tags": []
   },
   "outputs": [
    {
     "data": {
      "text/plain": [
       "' 0.93147551-0.01316687 0.01390605 0.03199164 0.04371852 0.05447320 0.09638329\\n'"
      ]
     },
     "execution_count": 5,
     "metadata": {},
     "output_type": "execute_result"
    }
   ],
   "source": [
    "rawweights = weights[6:]\n",
    "len(rawweights)\n",
    "rawweights[0]\n",
    "# wt = np.float(rawweight[0:11])\n",
    "# wt"
   ]
  },
  {
   "cell_type": "code",
   "execution_count": 6,
   "metadata": {
    "tags": []
   },
   "outputs": [
    {
     "name": "stdout",
     "output_type": "stream",
     "text": [
      "0\n",
      " 0.93147551\n",
      "1\n",
      "11\n",
      "-0.01316687\n",
      "2\n",
      "22\n",
      " 0.01390605\n",
      "3\n",
      "33\n",
      " 0.03199164\n",
      "4\n",
      "44\n",
      " 0.04371852\n",
      "5\n",
      "55\n",
      " 0.05447320\n",
      "6\n",
      "66\n",
      " 0.09638329\n",
      "7\n",
      "0\n",
      " 0.12391547\n",
      "8\n",
      "11\n",
      " 0.09554742\n",
      "9\n",
      "22\n",
      " 0.16695843\n",
      "10\n",
      "33\n",
      " 0.21478356\n",
      "11\n",
      "44\n",
      "-0.00057695\n",
      "12\n",
      "55\n",
      "-0.00208184\n",
      "13\n",
      "66\n",
      "-0.11176146\n",
      "14\n",
      "0\n",
      " 0.00010236\n",
      "15\n",
      "11\n",
      " 0.00002463\n",
      "16\n",
      "22\n",
      " 0.00095310\n",
      "17\n",
      "33\n",
      "-0.03749696\n",
      "18\n",
      "44\n",
      "-0.06510470\n",
      "19\n",
      "55\n",
      "-0.00056798\n",
      "20\n",
      "66\n",
      "-0.00069512\n",
      "21\n",
      "0\n",
      "-0.01259294\n",
      "22\n",
      "11\n",
      "-0.00001374\n",
      "23\n",
      "22\n",
      "-0.00000071\n",
      "24\n",
      "33\n",
      "-0.00000124\n",
      "25\n",
      "44\n",
      "-0.00088415\n",
      "26\n",
      "55\n",
      "-0.00152322\n",
      "27\n",
      "66\n",
      "-0.00000022\n",
      "28\n",
      "0\n",
      "-0.00000282\n",
      "29\n"
     ]
    }
   ],
   "source": [
    "wt = []\n",
    "# for cfg in range(ncfg):\n",
    "cfg = 0\n",
    "for row in range(0,len(rawweights)):\n",
    "        # print(i)\n",
    "        rwt = rawweights[row]\n",
    "        for i in range(0,len(rwt),11):\n",
    "            if i <= len(rwt) - 11:\n",
    "                print(i)\n",
    "                print(rwt[i:i+11])\n",
    "                wt.append(rwt[i:i+11])\n",
    "                cfg+=1\n",
    "                print(cfg)"
   ]
  },
  {
   "cell_type": "code",
   "execution_count": 7,
   "metadata": {},
   "outputs": [
    {
     "data": {
      "text/plain": [
       "[' 0.93147551',\n",
       " '-0.01316687',\n",
       " ' 0.01390605',\n",
       " ' 0.03199164',\n",
       " ' 0.04371852',\n",
       " ' 0.05447320',\n",
       " ' 0.09638329',\n",
       " ' 0.12391547',\n",
       " ' 0.09554742',\n",
       " ' 0.16695843',\n",
       " ' 0.21478356',\n",
       " '-0.00057695',\n",
       " '-0.00208184',\n",
       " '-0.11176146',\n",
       " ' 0.00010236',\n",
       " ' 0.00002463',\n",
       " ' 0.00095310',\n",
       " '-0.03749696',\n",
       " '-0.06510470',\n",
       " '-0.00056798',\n",
       " '-0.00069512',\n",
       " '-0.01259294',\n",
       " '-0.00001374',\n",
       " '-0.00000071',\n",
       " '-0.00000124',\n",
       " '-0.00088415',\n",
       " '-0.00152322',\n",
       " '-0.00000022',\n",
       " '-0.00000282']"
      ]
     },
     "execution_count": 7,
     "metadata": {},
     "output_type": "execute_result"
    }
   ],
   "source": [
    "wt"
   ]
  },
  {
   "cell_type": "code",
   "execution_count": 8,
   "metadata": {},
   "outputs": [],
   "source": [
    "a = csf.readlines()\n",
    "a[0] = '\\n'\n",
    "a.insert(1,'\\n')"
   ]
  },
  {
   "cell_type": "code",
   "execution_count": 9,
   "metadata": {},
   "outputs": [],
   "source": [
    "datafile = open('data.c','w')\n"
   ]
  },
  {
   "cell_type": "code",
   "execution_count": 10,
   "metadata": {},
   "outputs": [
    {
     "name": "stdout",
     "output_type": "stream",
     "text": [
      "\n",
      "\n",
      "\n",
      "\n",
      "  1s( 2)  2s( 2)  2p( 6)  3p( 1)\n",
      "\n",
      "29\n",
      " 1S0 1S0 1S0 2P1 1S  1S  2P                                      0.93147551\n",
      "\n",
      "  1s( 2)  2s( 2)  2p( 6)  4p( 1)\n",
      "\n",
      "29\n",
      " 1S0 1S0 1S0 2P1 1S  1S  2P                                     -0.01316687\n",
      "\n",
      "  1s( 2)  2s( 2)  2p( 5)  3p( 2)\n",
      "\n",
      "29\n",
      " 1S0 1S0 2P1 1S0 1S  2P  2P                                      0.01390605\n",
      "\n",
      "  1s( 2)  2s( 2)  2p( 5)  3p( 2)\n",
      "\n",
      "29\n",
      " 1S0 1S0 2P1 1D2 1S  2P  2P                                      0.03199164\n",
      "\n",
      "  1s( 2)  2s( 2)  2p( 5)  3p( 2)\n",
      "\n",
      "29\n",
      " 1S0 1S0 2P1 3P2 1S  2P  2P                                      0.04371852\n",
      "\n",
      "  1s( 2)  2s( 2)  2p( 5)  3p( 1)  4p( 1)\n",
      "\n",
      "37\n",
      " 1S0 1S0 2P1 2P1 2P1 1S  2P  1S  2P                              0.05447320\n",
      "\n",
      "  1s( 2)  2s( 2)  2p( 5)  3p( 1)  4p( 1)\n",
      "\n",
      "37\n",
      " 1S0 1S0 2P1 2P1 2P1 1S  2P  1P  2P                              0.09638329\n",
      "\n",
      "  1s( 2)  2s( 2)  2p( 5)  3p( 1)  4p( 1)\n",
      "\n",
      "37\n",
      " 1S0 1S0 2P1 2P1 2P1 1S  2P  1D  2P                              0.12391547\n",
      "\n",
      "  1s( 2)  2s( 2)  2p( 5)  3p( 1)  4p( 1)\n",
      "\n",
      "37\n",
      " 1S0 1S0 2P1 2P1 2P1 1S  2P  3S  2P                              0.09554742\n",
      "\n",
      "  1s( 2)  2s( 2)  2p( 5)  3p( 1)  4p( 1)\n",
      "\n",
      "37\n",
      " 1S0 1S0 2P1 2P1 2P1 1S  2P  3P  2P                              0.16695843\n",
      "\n",
      "  1s( 2)  2s( 2)  2p( 5)  3p( 1)  4p( 1)\n",
      "\n",
      "37\n",
      " 1S0 1S0 2P1 2P1 2P1 1S  2P  3D  2P                              0.21478356\n",
      "\n",
      "  1s( 2)  2s( 2)  2p( 5)  3p( 1)  4f( 1)\n",
      "\n",
      "37\n",
      " 1S0 1S0 2P1 2P1 2F1 1S  2P  1D  2P                             -0.00057695\n",
      "\n",
      "  1s( 2)  2s( 2)  2p( 5)  3p( 1)  4f( 1)\n",
      "\n",
      "37\n",
      " 1S0 1S0 2P1 2P1 2F1 1S  2P  3D  2P                             -0.00208184\n",
      "\n",
      "  1s( 2)  2s( 1)  2p( 6)  3s( 1)  3p( 1)\n",
      "\n",
      "37\n",
      " 1S0 2S1 1S0 2S1 2P1 2S  2S  1S  2P                             -0.11176146\n",
      "\n",
      "  1s( 2)  2s( 1)  2p( 6)  3s( 1)  3p( 1)\n",
      "\n",
      "37\n",
      " 1S0 2S1 1S0 2S1 2P1 2S  2S  3S  2P                              0.00010236\n",
      "\n",
      "  1s( 2)  2s( 1)  2p( 6)  3p( 1)  3d( 1)\n",
      "\n",
      "37\n",
      " 1S0 2S1 1S0 2P1 2D1 2S  2S  1P  2P                              0.00002463\n",
      "\n",
      "  1s( 2)  2s( 1)  2p( 6)  3p( 1)  3d( 1)\n",
      "\n",
      "37\n",
      " 1S0 2S1 1S0 2P1 2D1 2S  2S  3P  2P                              0.00095310\n",
      "\n",
      "  1s( 2)  2s( 1)  2p( 6)  3p( 1)  4s( 1)\n",
      "\n",
      "37\n",
      " 1S0 2S1 1S0 2P1 2S1 2S  2S  1P  2P                             -0.03749696\n",
      "\n",
      "  1s( 2)  2s( 1)  2p( 6)  3p( 1)  4s( 1)\n",
      "\n",
      "37\n",
      " 1S0 2S1 1S0 2P1 2S1 2S  2S  3P  2P                             -0.06510470\n",
      "\n",
      "  1s( 2)  2s( 1)  2p( 6)  3p( 1)  4d( 1)\n",
      "\n",
      "37\n",
      " 1S0 2S1 1S0 2P1 2D1 2S  2S  1P  2P                             -0.00056798\n",
      "\n",
      "  1s( 2)  2s( 1)  2p( 6)  3p( 1)  4d( 1)\n",
      "\n",
      "37\n",
      " 1S0 2S1 1S0 2P1 2D1 2S  2S  3P  2P                             -0.00069512\n",
      "\n",
      "  1s( 1)  2s( 2)  2p( 6)  3s( 1)  3p( 1)\n",
      "\n",
      "37\n",
      " 2S1 1S0 1S0 2S1 2P1 2S  2S  1S  2P                             -0.01259294\n",
      "\n",
      "  1s( 1)  2s( 2)  2p( 6)  3s( 1)  3p( 1)\n",
      "\n",
      "37\n",
      " 2S1 1S0 1S0 2S1 2P1 2S  2S  3S  2P                             -0.00001374\n",
      "\n",
      "  1s( 1)  2s( 2)  2p( 6)  3p( 1)  3d( 1)\n",
      "\n",
      "37\n",
      " 2S1 1S0 1S0 2P1 2D1 2S  2S  1P  2P                             -0.00000071\n",
      "\n",
      "  1s( 1)  2s( 2)  2p( 6)  3p( 1)  3d( 1)\n",
      "\n",
      "37\n",
      " 2S1 1S0 1S0 2P1 2D1 2S  2S  3P  2P                             -0.00000124\n",
      "\n",
      "  1s( 1)  2s( 2)  2p( 6)  3p( 1)  4s( 1)\n",
      "\n",
      "37\n",
      " 2S1 1S0 1S0 2P1 2S1 2S  2S  1P  2P                             -0.00088415\n",
      "\n",
      "  1s( 1)  2s( 2)  2p( 6)  3p( 1)  4s( 1)\n",
      "\n",
      "37\n",
      " 2S1 1S0 1S0 2P1 2S1 2S  2S  3P  2P                             -0.00152322\n",
      "\n",
      "  1s( 1)  2s( 2)  2p( 6)  3p( 1)  4d( 1)\n",
      "\n",
      "37\n",
      " 2S1 1S0 1S0 2P1 2D1 2S  2S  1P  2P                             -0.00000022\n",
      "\n",
      "  1s( 1)  2s( 2)  2p( 6)  3p( 1)  4d( 1)\n",
      "\n",
      "37\n",
      " 2S1 1S0 1S0 2P1 2D1 2S  2S  3P  2P                             -0.00000282\n",
      "\n",
      "*\n",
      "\n"
     ]
    }
   ],
   "source": [
    "for line in range(len(a)):\n",
    "    if finalterm in a[line]:\n",
    "        blank = int(66 - len(a[line])) * \" \"\n",
    "        print(len(a[line]))\n",
    "        xxx = a[line]\n",
    "        a[line] = xxx[:-2] + blank + wt[int(line / 2 - 1)] + \"\\n\"\n",
    "#         a[line]+=wt[int(line / 2 - 1)]\n",
    "    print(a[line])\n",
    "    datafile.write(str(a[line]))"
   ]
  },
  {
   "cell_type": "code",
   "execution_count": 11,
   "metadata": {},
   "outputs": [],
   "source": [
    "datafile.close()"
   ]
  },
  {
   "cell_type": "code",
   "execution_count": null,
   "metadata": {},
   "outputs": [],
   "source": []
  }
 ],
 "metadata": {
  "kernelspec": {
   "display_name": "Python 3",
   "language": "python",
   "name": "python3"
  },
  "language_info": {
   "codemirror_mode": {
    "name": "ipython",
    "version": 3
   },
   "file_extension": ".py",
   "mimetype": "text/x-python",
   "name": "python",
   "nbconvert_exporter": "python",
   "pygments_lexer": "ipython3",
   "version": "3.8.3"
  }
 },
 "nbformat": 4,
 "nbformat_minor": 4
}
